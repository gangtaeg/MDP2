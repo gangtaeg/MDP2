{
 "cells": [
  {
   "cell_type": "code",
   "execution_count": null,
   "metadata": {},
   "outputs": [],
   "source": [
    "# pip install pandas"
   ]
  },
  {
   "cell_type": "code",
   "execution_count": null,
   "metadata": {},
   "outputs": [],
   "source": [
    "# pip install openpyxl"
   ]
  },
  {
   "cell_type": "code",
   "execution_count": 2,
   "metadata": {},
   "outputs": [],
   "source": [
    "import requests\n",
    "import pandas as pd\n",
    "from bs4 import BeautifulSoup\n",
    "\n",
    "data = []\n",
    "for i in range(0, 4):\n",
    "    \n",
    "    response = requests.get(f\"https://startcoding.pythonanywhere.com/basic?page={i}\")\n",
    "    html = response.text\n",
    "    soup = BeautifulSoup(html, 'html.parser')\n",
    "    items = soup.select('.product')\n",
    "\n",
    "    for item in items:\n",
    "        category = item.select_one(\".product-category\").text\n",
    "        name = item.select_one(\".product-name\").text\n",
    "        link = item.select_one(\".product-name > a\").attrs['href']\n",
    "        price = item.select_one(\".product-price\").text.split('\\n')[0]\n",
    "        data.append([category, name, link, price])\n",
    "        \n",
    "df = pd.DataFrame(data, columns=['카테고리', '상품명', '상세페이지링크', '가격'])\n",
    "df.to_excel('C:/users/asdfg/OneDrive/바탕 화면/result.xlsx', index=False)"
   ]
  }
 ],
 "metadata": {
  "kernelspec": {
   "display_name": "Python 3",
   "language": "python",
   "name": "python3"
  },
  "language_info": {
   "codemirror_mode": {
    "name": "ipython",
    "version": 3
   },
   "file_extension": ".py",
   "mimetype": "text/x-python",
   "name": "python",
   "nbconvert_exporter": "python",
   "pygments_lexer": "ipython3",
   "version": "3.12.3"
  }
 },
 "nbformat": 4,
 "nbformat_minor": 2
}
