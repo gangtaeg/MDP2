{
 "cells": [
  {
   "cell_type": "code",
   "execution_count": 7,
   "metadata": {},
   "outputs": [
    {
     "name": "stdout",
     "output_type": "stream",
     "text": [
      "노트북\n",
      "에이서 스위프트 GO 16 OLED, 스틸 그레이, 코어i7, 512GB, 16GB, WIN11 Home, SFG16-71-77FT\n",
      "#product1_detail.html\n",
      "1,419,000원\n",
      "\n",
      "\n",
      "노트북\n",
      "삼성전자 노트북 플러스2 15.6, 퓨어 화이트, NT550XDA-K24AT, 펜티엄, 256GB, 8GB, WIN11 Pro\n",
      "#product2_detail.html\n",
      "549,000원\n",
      "\n",
      "\n",
      "노트북\n",
      "레노버 아이디어패드 슬림 1 15AMN7 15.6, 256GB, Free DOS, 82VG002EKR, 라이젠3, Cloud Grey (82VG), 8GB\n",
      "#product3_detail.html\n",
      "529,000원\n",
      "\n",
      "\n",
      "노트북\n",
      "레노버 V15 G4 AMN 15.6, Arctic Grey, 라이젠3, 256GB, 8GB, WIN11 Home, 82YU0009KR\n",
      "#product4_detail.html\n",
      "624,000원\n",
      "\n",
      "\n",
      "노트북\n",
      "LG 울트라PC 엣지 16, 차콜 그레이, 라이젠5, 256GB, 16GB, WIN11 Home, 16U70R-GA56K\n",
      "#product5_detail.html\n",
      "1,135,000원\n",
      "\n",
      "\n",
      "노트북\n",
      "베이직스 베이직북 14 3세대, BB1422SS, 256GB, White, WIN11 Pro, 셀러론, 8GB\n",
      "#product6_detail.html\n",
      "398,000원\n",
      "\n",
      "\n",
      "노트북\n",
      "레노버 아이디어패드 슬림 5i 14IRL 14, Cloud Grey, 코어i5, 512GB, 16GB, Free DOS, 82XD002XKR\n",
      "#product7_detail.html\n",
      "899,000원\n",
      "\n",
      "\n",
      "노트북\n",
      "레노버 아이디어패드 슬림 5 16IRL 16, Cloud Grey, 512GB, 16GB, Free DOS, 82XF001RKR\n",
      "#product8_detail.html\n",
      "929,000원\n",
      "\n",
      "\n",
      "노트북\n",
      "에이서 스위프트 GO 16 OLED, 스틸 그레이, 코어i5, 512GB, 16GB, Free DOS, SFG16-71-51BY\n",
      "#product9_detail.html\n",
      "1,008,000원\n",
      "\n",
      "\n",
      "노트북\n",
      "삼성전자 갤럭시북 2 15.6, 500GB, 실버, NT550XED-K78AS, 코어i7, 16GB, WIN11 Home\n",
      "#product10_detail.html\n",
      "1,149,000원\n",
      "\n",
      "\n"
     ]
    }
   ],
   "source": [
    "import requests\n",
    "from bs4 import BeautifulSoup\n",
    "\n",
    "response = requests.get(\"https://startcoding.pythonanywhere.com/basic\")\n",
    "html = response.text\n",
    "soup = BeautifulSoup(html, 'html.parser')\n",
    "items = soup.select(\".product\")\n",
    "for item in items:\n",
    "    category = item.select_one(\".product-category\").text\n",
    "    name = item.select_one(\".product-name\").text\n",
    "    link = item.select_one(\".product-name > a\").attrs['href']\n",
    "    price = item.select_one(\".product-price\").text.split('\\n')[0]\n",
    "    print(category+\"\\n\"+name+\"\\n\"+link+\"\\n\"+price+\"\\n\\n\")"
   ]
  }
 ],
 "metadata": {
  "kernelspec": {
   "display_name": "Python 3",
   "language": "python",
   "name": "python3"
  },
  "language_info": {
   "codemirror_mode": {
    "name": "ipython",
    "version": 3
   },
   "file_extension": ".py",
   "mimetype": "text/x-python",
   "name": "python",
   "nbconvert_exporter": "python",
   "pygments_lexer": "ipython3",
   "version": "3.12.3"
  }
 },
 "nbformat": 4,
 "nbformat_minor": 2
}
